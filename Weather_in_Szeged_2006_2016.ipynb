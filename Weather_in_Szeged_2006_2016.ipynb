{
  "nbformat": 4,
  "nbformat_minor": 0,
  "metadata": {
    "colab": {
      "name": "Weather-in-Szeged-2006-2016.ipynb",
      "provenance": [],
      "authorship_tag": "ABX9TyNKPCaCFaQ9G1HcxLX0aALT",
      "include_colab_link": true
    },
    "kernelspec": {
      "name": "python3",
      "display_name": "Python 3"
    },
    "language_info": {
      "name": "python"
    }
  },
  "cells": [
    {
      "cell_type": "markdown",
      "metadata": {
        "id": "view-in-github",
        "colab_type": "text"
      },
      "source": [
        "<a href=\"https://colab.research.google.com/github/nandinib1999/Weather-in-Szeged-2006-2016/blob/main/Weather_in_Szeged_2006_2016.ipynb\" target=\"_parent\"><img src=\"https://colab.research.google.com/assets/colab-badge.svg\" alt=\"Open In Colab\"/></a>"
      ]
    },
    {
      "cell_type": "code",
      "metadata": {
        "colab": {
          "base_uri": "https://localhost:8080/"
        },
        "id": "XUxHfYhQzw0L",
        "outputId": "c0c3cfa4-5173-41ca-cde0-b5db3e5a1df5"
      },
      "source": [
        "!git clone https://github.com/nandinib1999/Weather-in-Szeged-2006-2016"
      ],
      "execution_count": 1,
      "outputs": [
        {
          "output_type": "stream",
          "name": "stdout",
          "text": [
            "Cloning into 'Weather-in-Szeged-2006-2016'...\n",
            "remote: Enumerating objects: 6, done.\u001b[K\n",
            "remote: Counting objects: 100% (6/6), done.\u001b[K\n",
            "remote: Compressing objects: 100% (5/5), done.\u001b[K\n",
            "remote: Total 6 (delta 0), reused 0 (delta 0), pack-reused 0\u001b[K\n",
            "Unpacking objects: 100% (6/6), done.\n"
          ]
        }
      ]
    },
    {
      "cell_type": "code",
      "metadata": {
        "colab": {
          "base_uri": "https://localhost:8080/"
        },
        "id": "d4r47s6SM48D",
        "outputId": "ba3f726e-d72d-4730-9909-34a926777965"
      },
      "source": [
        "cd \"/content/Weather-in-Szeged-2006-2016\""
      ],
      "execution_count": 2,
      "outputs": [
        {
          "output_type": "stream",
          "name": "stdout",
          "text": [
            "/content/Weather-in-Szeged-2006-2016\n"
          ]
        }
      ]
    },
    {
      "cell_type": "code",
      "metadata": {
        "id": "QgfN8ACWM8Mw"
      },
      "source": [
        "import pandas as pd\n",
        "import seaborn as sns\n",
        "import matplotlib.pyplot as plt"
      ],
      "execution_count": 70,
      "outputs": []
    },
    {
      "cell_type": "code",
      "metadata": {
        "colab": {
          "base_uri": "https://localhost:8080/",
          "height": 923
        },
        "id": "7ieoWkyPM-2c",
        "outputId": "59cd612b-b4a6-4bfe-c9e5-abeede550fcd"
      },
      "source": [
        "df = pd.read_csv(\"/content/Weather-in-Szeged-2006-2016/weatherHistory.csv\")\n",
        "df.head(10)"
      ],
      "execution_count": 118,
      "outputs": [
        {
          "output_type": "execute_result",
          "data": {
            "text/html": [
              "<div>\n",
              "<style scoped>\n",
              "    .dataframe tbody tr th:only-of-type {\n",
              "        vertical-align: middle;\n",
              "    }\n",
              "\n",
              "    .dataframe tbody tr th {\n",
              "        vertical-align: top;\n",
              "    }\n",
              "\n",
              "    .dataframe thead th {\n",
              "        text-align: right;\n",
              "    }\n",
              "</style>\n",
              "<table border=\"1\" class=\"dataframe\">\n",
              "  <thead>\n",
              "    <tr style=\"text-align: right;\">\n",
              "      <th></th>\n",
              "      <th>Formatted Date</th>\n",
              "      <th>Summary</th>\n",
              "      <th>Precip Type</th>\n",
              "      <th>Temperature (C)</th>\n",
              "      <th>Apparent Temperature (C)</th>\n",
              "      <th>Humidity</th>\n",
              "      <th>Wind Speed (km/h)</th>\n",
              "      <th>Wind Bearing (degrees)</th>\n",
              "      <th>Visibility (km)</th>\n",
              "      <th>Loud Cover</th>\n",
              "      <th>Pressure (millibars)</th>\n",
              "      <th>Daily Summary</th>\n",
              "    </tr>\n",
              "  </thead>\n",
              "  <tbody>\n",
              "    <tr>\n",
              "      <th>0</th>\n",
              "      <td>2006-04-01 00:00:00.000 +0200</td>\n",
              "      <td>Partly Cloudy</td>\n",
              "      <td>rain</td>\n",
              "      <td>9.472222</td>\n",
              "      <td>7.388889</td>\n",
              "      <td>0.89</td>\n",
              "      <td>14.1197</td>\n",
              "      <td>251.0</td>\n",
              "      <td>15.8263</td>\n",
              "      <td>0.0</td>\n",
              "      <td>1015.13</td>\n",
              "      <td>Partly cloudy throughout the day.</td>\n",
              "    </tr>\n",
              "    <tr>\n",
              "      <th>1</th>\n",
              "      <td>2006-04-01 01:00:00.000 +0200</td>\n",
              "      <td>Partly Cloudy</td>\n",
              "      <td>rain</td>\n",
              "      <td>9.355556</td>\n",
              "      <td>7.227778</td>\n",
              "      <td>0.86</td>\n",
              "      <td>14.2646</td>\n",
              "      <td>259.0</td>\n",
              "      <td>15.8263</td>\n",
              "      <td>0.0</td>\n",
              "      <td>1015.63</td>\n",
              "      <td>Partly cloudy throughout the day.</td>\n",
              "    </tr>\n",
              "    <tr>\n",
              "      <th>2</th>\n",
              "      <td>2006-04-01 02:00:00.000 +0200</td>\n",
              "      <td>Mostly Cloudy</td>\n",
              "      <td>rain</td>\n",
              "      <td>9.377778</td>\n",
              "      <td>9.377778</td>\n",
              "      <td>0.89</td>\n",
              "      <td>3.9284</td>\n",
              "      <td>204.0</td>\n",
              "      <td>14.9569</td>\n",
              "      <td>0.0</td>\n",
              "      <td>1015.94</td>\n",
              "      <td>Partly cloudy throughout the day.</td>\n",
              "    </tr>\n",
              "    <tr>\n",
              "      <th>3</th>\n",
              "      <td>2006-04-01 03:00:00.000 +0200</td>\n",
              "      <td>Partly Cloudy</td>\n",
              "      <td>rain</td>\n",
              "      <td>8.288889</td>\n",
              "      <td>5.944444</td>\n",
              "      <td>0.83</td>\n",
              "      <td>14.1036</td>\n",
              "      <td>269.0</td>\n",
              "      <td>15.8263</td>\n",
              "      <td>0.0</td>\n",
              "      <td>1016.41</td>\n",
              "      <td>Partly cloudy throughout the day.</td>\n",
              "    </tr>\n",
              "    <tr>\n",
              "      <th>4</th>\n",
              "      <td>2006-04-01 04:00:00.000 +0200</td>\n",
              "      <td>Mostly Cloudy</td>\n",
              "      <td>rain</td>\n",
              "      <td>8.755556</td>\n",
              "      <td>6.977778</td>\n",
              "      <td>0.83</td>\n",
              "      <td>11.0446</td>\n",
              "      <td>259.0</td>\n",
              "      <td>15.8263</td>\n",
              "      <td>0.0</td>\n",
              "      <td>1016.51</td>\n",
              "      <td>Partly cloudy throughout the day.</td>\n",
              "    </tr>\n",
              "    <tr>\n",
              "      <th>5</th>\n",
              "      <td>2006-04-01 05:00:00.000 +0200</td>\n",
              "      <td>Partly Cloudy</td>\n",
              "      <td>rain</td>\n",
              "      <td>9.222222</td>\n",
              "      <td>7.111111</td>\n",
              "      <td>0.85</td>\n",
              "      <td>13.9587</td>\n",
              "      <td>258.0</td>\n",
              "      <td>14.9569</td>\n",
              "      <td>0.0</td>\n",
              "      <td>1016.66</td>\n",
              "      <td>Partly cloudy throughout the day.</td>\n",
              "    </tr>\n",
              "    <tr>\n",
              "      <th>6</th>\n",
              "      <td>2006-04-01 06:00:00.000 +0200</td>\n",
              "      <td>Partly Cloudy</td>\n",
              "      <td>rain</td>\n",
              "      <td>7.733333</td>\n",
              "      <td>5.522222</td>\n",
              "      <td>0.95</td>\n",
              "      <td>12.3648</td>\n",
              "      <td>259.0</td>\n",
              "      <td>9.9820</td>\n",
              "      <td>0.0</td>\n",
              "      <td>1016.72</td>\n",
              "      <td>Partly cloudy throughout the day.</td>\n",
              "    </tr>\n",
              "    <tr>\n",
              "      <th>7</th>\n",
              "      <td>2006-04-01 07:00:00.000 +0200</td>\n",
              "      <td>Partly Cloudy</td>\n",
              "      <td>rain</td>\n",
              "      <td>8.772222</td>\n",
              "      <td>6.527778</td>\n",
              "      <td>0.89</td>\n",
              "      <td>14.1519</td>\n",
              "      <td>260.0</td>\n",
              "      <td>9.9820</td>\n",
              "      <td>0.0</td>\n",
              "      <td>1016.84</td>\n",
              "      <td>Partly cloudy throughout the day.</td>\n",
              "    </tr>\n",
              "    <tr>\n",
              "      <th>8</th>\n",
              "      <td>2006-04-01 08:00:00.000 +0200</td>\n",
              "      <td>Partly Cloudy</td>\n",
              "      <td>rain</td>\n",
              "      <td>10.822222</td>\n",
              "      <td>10.822222</td>\n",
              "      <td>0.82</td>\n",
              "      <td>11.3183</td>\n",
              "      <td>259.0</td>\n",
              "      <td>9.9820</td>\n",
              "      <td>0.0</td>\n",
              "      <td>1017.37</td>\n",
              "      <td>Partly cloudy throughout the day.</td>\n",
              "    </tr>\n",
              "    <tr>\n",
              "      <th>9</th>\n",
              "      <td>2006-04-01 09:00:00.000 +0200</td>\n",
              "      <td>Partly Cloudy</td>\n",
              "      <td>rain</td>\n",
              "      <td>13.772222</td>\n",
              "      <td>13.772222</td>\n",
              "      <td>0.72</td>\n",
              "      <td>12.5258</td>\n",
              "      <td>279.0</td>\n",
              "      <td>9.9820</td>\n",
              "      <td>0.0</td>\n",
              "      <td>1017.22</td>\n",
              "      <td>Partly cloudy throughout the day.</td>\n",
              "    </tr>\n",
              "  </tbody>\n",
              "</table>\n",
              "</div>"
            ],
            "text/plain": [
              "                  Formatted Date  ...                      Daily Summary\n",
              "0  2006-04-01 00:00:00.000 +0200  ...  Partly cloudy throughout the day.\n",
              "1  2006-04-01 01:00:00.000 +0200  ...  Partly cloudy throughout the day.\n",
              "2  2006-04-01 02:00:00.000 +0200  ...  Partly cloudy throughout the day.\n",
              "3  2006-04-01 03:00:00.000 +0200  ...  Partly cloudy throughout the day.\n",
              "4  2006-04-01 04:00:00.000 +0200  ...  Partly cloudy throughout the day.\n",
              "5  2006-04-01 05:00:00.000 +0200  ...  Partly cloudy throughout the day.\n",
              "6  2006-04-01 06:00:00.000 +0200  ...  Partly cloudy throughout the day.\n",
              "7  2006-04-01 07:00:00.000 +0200  ...  Partly cloudy throughout the day.\n",
              "8  2006-04-01 08:00:00.000 +0200  ...  Partly cloudy throughout the day.\n",
              "9  2006-04-01 09:00:00.000 +0200  ...  Partly cloudy throughout the day.\n",
              "\n",
              "[10 rows x 12 columns]"
            ]
          },
          "metadata": {},
          "execution_count": 118
        }
      ]
    },
    {
      "cell_type": "code",
      "metadata": {
        "colab": {
          "base_uri": "https://localhost:8080/"
        },
        "id": "UygdzTtJMN_p",
        "outputId": "e7be2eeb-b1e3-4601-d537-847300d54951"
      },
      "source": [
        "df.info()"
      ],
      "execution_count": 119,
      "outputs": [
        {
          "output_type": "stream",
          "name": "stdout",
          "text": [
            "<class 'pandas.core.frame.DataFrame'>\n",
            "RangeIndex: 96453 entries, 0 to 96452\n",
            "Data columns (total 12 columns):\n",
            " #   Column                    Non-Null Count  Dtype  \n",
            "---  ------                    --------------  -----  \n",
            " 0   Formatted Date            96453 non-null  object \n",
            " 1   Summary                   96453 non-null  object \n",
            " 2   Precip Type               95936 non-null  object \n",
            " 3   Temperature (C)           96453 non-null  float64\n",
            " 4   Apparent Temperature (C)  96453 non-null  float64\n",
            " 5   Humidity                  96453 non-null  float64\n",
            " 6   Wind Speed (km/h)         96453 non-null  float64\n",
            " 7   Wind Bearing (degrees)    96453 non-null  float64\n",
            " 8   Visibility (km)           96453 non-null  float64\n",
            " 9   Loud Cover                96453 non-null  float64\n",
            " 10  Pressure (millibars)      96453 non-null  float64\n",
            " 11  Daily Summary             96453 non-null  object \n",
            "dtypes: float64(8), object(4)\n",
            "memory usage: 8.8+ MB\n"
          ]
        }
      ]
    },
    {
      "cell_type": "code",
      "metadata": {
        "colab": {
          "base_uri": "https://localhost:8080/"
        },
        "id": "kf_JDqnAMR16",
        "outputId": "b5dacca4-6810-469e-bb6a-9bbea5989f57"
      },
      "source": [
        "df.isna().sum()"
      ],
      "execution_count": 120,
      "outputs": [
        {
          "output_type": "execute_result",
          "data": {
            "text/plain": [
              "Formatted Date                0\n",
              "Summary                       0\n",
              "Precip Type                 517\n",
              "Temperature (C)               0\n",
              "Apparent Temperature (C)      0\n",
              "Humidity                      0\n",
              "Wind Speed (km/h)             0\n",
              "Wind Bearing (degrees)        0\n",
              "Visibility (km)               0\n",
              "Loud Cover                    0\n",
              "Pressure (millibars)          0\n",
              "Daily Summary                 0\n",
              "dtype: int64"
            ]
          },
          "metadata": {},
          "execution_count": 120
        }
      ]
    },
    {
      "cell_type": "code",
      "metadata": {
        "colab": {
          "base_uri": "https://localhost:8080/"
        },
        "id": "2P7PepladhXL",
        "outputId": "e8a5b19d-1689-4642-9fb4-b87859079e84"
      },
      "source": [
        "df['Formatted Date'] = pd.to_datetime(df['Formatted Date'], utc=True)\n",
        "df.info()"
      ],
      "execution_count": 122,
      "outputs": [
        {
          "output_type": "stream",
          "name": "stdout",
          "text": [
            "<class 'pandas.core.frame.DataFrame'>\n",
            "RangeIndex: 96453 entries, 0 to 96452\n",
            "Data columns (total 12 columns):\n",
            " #   Column                    Non-Null Count  Dtype              \n",
            "---  ------                    --------------  -----              \n",
            " 0   Formatted Date            96453 non-null  datetime64[ns, UTC]\n",
            " 1   Summary                   96453 non-null  object             \n",
            " 2   Precip Type               95936 non-null  object             \n",
            " 3   Temperature (C)           96453 non-null  float64            \n",
            " 4   Apparent Temperature (C)  96453 non-null  float64            \n",
            " 5   Humidity                  96453 non-null  float64            \n",
            " 6   Wind Speed (km/h)         96453 non-null  float64            \n",
            " 7   Wind Bearing (degrees)    96453 non-null  float64            \n",
            " 8   Visibility (km)           96453 non-null  float64            \n",
            " 9   Loud Cover                96453 non-null  float64            \n",
            " 10  Pressure (millibars)      96453 non-null  float64            \n",
            " 11  Daily Summary             96453 non-null  object             \n",
            "dtypes: datetime64[ns, UTC](1), float64(8), object(3)\n",
            "memory usage: 8.8+ MB\n"
          ]
        }
      ]
    },
    {
      "cell_type": "code",
      "metadata": {
        "colab": {
          "base_uri": "https://localhost:8080/",
          "height": 1000
        },
        "id": "8iV8f3W4iArb",
        "outputId": "76ff0fdc-5db8-488c-b30d-b276479bd0c5"
      },
      "source": [
        "df['Month'] = df['Formatted Date'].dt.month\n",
        "df"
      ],
      "execution_count": 123,
      "outputs": [
        {
          "output_type": "execute_result",
          "data": {
            "text/html": [
              "<div>\n",
              "<style scoped>\n",
              "    .dataframe tbody tr th:only-of-type {\n",
              "        vertical-align: middle;\n",
              "    }\n",
              "\n",
              "    .dataframe tbody tr th {\n",
              "        vertical-align: top;\n",
              "    }\n",
              "\n",
              "    .dataframe thead th {\n",
              "        text-align: right;\n",
              "    }\n",
              "</style>\n",
              "<table border=\"1\" class=\"dataframe\">\n",
              "  <thead>\n",
              "    <tr style=\"text-align: right;\">\n",
              "      <th></th>\n",
              "      <th>Formatted Date</th>\n",
              "      <th>Summary</th>\n",
              "      <th>Precip Type</th>\n",
              "      <th>Temperature (C)</th>\n",
              "      <th>Apparent Temperature (C)</th>\n",
              "      <th>Humidity</th>\n",
              "      <th>Wind Speed (km/h)</th>\n",
              "      <th>Wind Bearing (degrees)</th>\n",
              "      <th>Visibility (km)</th>\n",
              "      <th>Loud Cover</th>\n",
              "      <th>Pressure (millibars)</th>\n",
              "      <th>Daily Summary</th>\n",
              "      <th>Month</th>\n",
              "    </tr>\n",
              "  </thead>\n",
              "  <tbody>\n",
              "    <tr>\n",
              "      <th>0</th>\n",
              "      <td>2006-03-31 22:00:00+00:00</td>\n",
              "      <td>Partly Cloudy</td>\n",
              "      <td>rain</td>\n",
              "      <td>9.472222</td>\n",
              "      <td>7.388889</td>\n",
              "      <td>0.89</td>\n",
              "      <td>14.1197</td>\n",
              "      <td>251.0</td>\n",
              "      <td>15.8263</td>\n",
              "      <td>0.0</td>\n",
              "      <td>1015.13</td>\n",
              "      <td>Partly cloudy throughout the day.</td>\n",
              "      <td>3</td>\n",
              "    </tr>\n",
              "    <tr>\n",
              "      <th>1</th>\n",
              "      <td>2006-03-31 23:00:00+00:00</td>\n",
              "      <td>Partly Cloudy</td>\n",
              "      <td>rain</td>\n",
              "      <td>9.355556</td>\n",
              "      <td>7.227778</td>\n",
              "      <td>0.86</td>\n",
              "      <td>14.2646</td>\n",
              "      <td>259.0</td>\n",
              "      <td>15.8263</td>\n",
              "      <td>0.0</td>\n",
              "      <td>1015.63</td>\n",
              "      <td>Partly cloudy throughout the day.</td>\n",
              "      <td>3</td>\n",
              "    </tr>\n",
              "    <tr>\n",
              "      <th>2</th>\n",
              "      <td>2006-04-01 00:00:00+00:00</td>\n",
              "      <td>Mostly Cloudy</td>\n",
              "      <td>rain</td>\n",
              "      <td>9.377778</td>\n",
              "      <td>9.377778</td>\n",
              "      <td>0.89</td>\n",
              "      <td>3.9284</td>\n",
              "      <td>204.0</td>\n",
              "      <td>14.9569</td>\n",
              "      <td>0.0</td>\n",
              "      <td>1015.94</td>\n",
              "      <td>Partly cloudy throughout the day.</td>\n",
              "      <td>4</td>\n",
              "    </tr>\n",
              "    <tr>\n",
              "      <th>3</th>\n",
              "      <td>2006-04-01 01:00:00+00:00</td>\n",
              "      <td>Partly Cloudy</td>\n",
              "      <td>rain</td>\n",
              "      <td>8.288889</td>\n",
              "      <td>5.944444</td>\n",
              "      <td>0.83</td>\n",
              "      <td>14.1036</td>\n",
              "      <td>269.0</td>\n",
              "      <td>15.8263</td>\n",
              "      <td>0.0</td>\n",
              "      <td>1016.41</td>\n",
              "      <td>Partly cloudy throughout the day.</td>\n",
              "      <td>4</td>\n",
              "    </tr>\n",
              "    <tr>\n",
              "      <th>4</th>\n",
              "      <td>2006-04-01 02:00:00+00:00</td>\n",
              "      <td>Mostly Cloudy</td>\n",
              "      <td>rain</td>\n",
              "      <td>8.755556</td>\n",
              "      <td>6.977778</td>\n",
              "      <td>0.83</td>\n",
              "      <td>11.0446</td>\n",
              "      <td>259.0</td>\n",
              "      <td>15.8263</td>\n",
              "      <td>0.0</td>\n",
              "      <td>1016.51</td>\n",
              "      <td>Partly cloudy throughout the day.</td>\n",
              "      <td>4</td>\n",
              "    </tr>\n",
              "    <tr>\n",
              "      <th>...</th>\n",
              "      <td>...</td>\n",
              "      <td>...</td>\n",
              "      <td>...</td>\n",
              "      <td>...</td>\n",
              "      <td>...</td>\n",
              "      <td>...</td>\n",
              "      <td>...</td>\n",
              "      <td>...</td>\n",
              "      <td>...</td>\n",
              "      <td>...</td>\n",
              "      <td>...</td>\n",
              "      <td>...</td>\n",
              "      <td>...</td>\n",
              "    </tr>\n",
              "    <tr>\n",
              "      <th>96448</th>\n",
              "      <td>2016-09-09 17:00:00+00:00</td>\n",
              "      <td>Partly Cloudy</td>\n",
              "      <td>rain</td>\n",
              "      <td>26.016667</td>\n",
              "      <td>26.016667</td>\n",
              "      <td>0.43</td>\n",
              "      <td>10.9963</td>\n",
              "      <td>31.0</td>\n",
              "      <td>16.1000</td>\n",
              "      <td>0.0</td>\n",
              "      <td>1014.36</td>\n",
              "      <td>Partly cloudy starting in the morning.</td>\n",
              "      <td>9</td>\n",
              "    </tr>\n",
              "    <tr>\n",
              "      <th>96449</th>\n",
              "      <td>2016-09-09 18:00:00+00:00</td>\n",
              "      <td>Partly Cloudy</td>\n",
              "      <td>rain</td>\n",
              "      <td>24.583333</td>\n",
              "      <td>24.583333</td>\n",
              "      <td>0.48</td>\n",
              "      <td>10.0947</td>\n",
              "      <td>20.0</td>\n",
              "      <td>15.5526</td>\n",
              "      <td>0.0</td>\n",
              "      <td>1015.16</td>\n",
              "      <td>Partly cloudy starting in the morning.</td>\n",
              "      <td>9</td>\n",
              "    </tr>\n",
              "    <tr>\n",
              "      <th>96450</th>\n",
              "      <td>2016-09-09 19:00:00+00:00</td>\n",
              "      <td>Partly Cloudy</td>\n",
              "      <td>rain</td>\n",
              "      <td>22.038889</td>\n",
              "      <td>22.038889</td>\n",
              "      <td>0.56</td>\n",
              "      <td>8.9838</td>\n",
              "      <td>30.0</td>\n",
              "      <td>16.1000</td>\n",
              "      <td>0.0</td>\n",
              "      <td>1015.66</td>\n",
              "      <td>Partly cloudy starting in the morning.</td>\n",
              "      <td>9</td>\n",
              "    </tr>\n",
              "    <tr>\n",
              "      <th>96451</th>\n",
              "      <td>2016-09-09 20:00:00+00:00</td>\n",
              "      <td>Partly Cloudy</td>\n",
              "      <td>rain</td>\n",
              "      <td>21.522222</td>\n",
              "      <td>21.522222</td>\n",
              "      <td>0.60</td>\n",
              "      <td>10.5294</td>\n",
              "      <td>20.0</td>\n",
              "      <td>16.1000</td>\n",
              "      <td>0.0</td>\n",
              "      <td>1015.95</td>\n",
              "      <td>Partly cloudy starting in the morning.</td>\n",
              "      <td>9</td>\n",
              "    </tr>\n",
              "    <tr>\n",
              "      <th>96452</th>\n",
              "      <td>2016-09-09 21:00:00+00:00</td>\n",
              "      <td>Partly Cloudy</td>\n",
              "      <td>rain</td>\n",
              "      <td>20.438889</td>\n",
              "      <td>20.438889</td>\n",
              "      <td>0.61</td>\n",
              "      <td>5.8765</td>\n",
              "      <td>39.0</td>\n",
              "      <td>15.5204</td>\n",
              "      <td>0.0</td>\n",
              "      <td>1016.16</td>\n",
              "      <td>Partly cloudy starting in the morning.</td>\n",
              "      <td>9</td>\n",
              "    </tr>\n",
              "  </tbody>\n",
              "</table>\n",
              "<p>96453 rows × 13 columns</p>\n",
              "</div>"
            ],
            "text/plain": [
              "                 Formatted Date  ... Month\n",
              "0     2006-03-31 22:00:00+00:00  ...     3\n",
              "1     2006-03-31 23:00:00+00:00  ...     3\n",
              "2     2006-04-01 00:00:00+00:00  ...     4\n",
              "3     2006-04-01 01:00:00+00:00  ...     4\n",
              "4     2006-04-01 02:00:00+00:00  ...     4\n",
              "...                         ...  ...   ...\n",
              "96448 2016-09-09 17:00:00+00:00  ...     9\n",
              "96449 2016-09-09 18:00:00+00:00  ...     9\n",
              "96450 2016-09-09 19:00:00+00:00  ...     9\n",
              "96451 2016-09-09 20:00:00+00:00  ...     9\n",
              "96452 2016-09-09 21:00:00+00:00  ...     9\n",
              "\n",
              "[96453 rows x 13 columns]"
            ]
          },
          "metadata": {},
          "execution_count": 123
        }
      ]
    },
    {
      "cell_type": "code",
      "metadata": {
        "colab": {
          "base_uri": "https://localhost:8080/"
        },
        "id": "ueOsI7jBOtxH",
        "outputId": "ca9e2146-c6c9-4bf4-ae30-49d2d122d2ac"
      },
      "source": [
        "df['Precip Type'].value_counts()"
      ],
      "execution_count": 124,
      "outputs": [
        {
          "output_type": "execute_result",
          "data": {
            "text/plain": [
              "rain    85224\n",
              "snow    10712\n",
              "Name: Precip Type, dtype: int64"
            ]
          },
          "metadata": {},
          "execution_count": 124
        }
      ]
    },
    {
      "cell_type": "code",
      "metadata": {
        "colab": {
          "base_uri": "https://localhost:8080/",
          "height": 1000
        },
        "id": "OjHEdbNtbq6w",
        "outputId": "0a1e2ef7-3ee6-4791-c03a-c5104b22406f"
      },
      "source": [
        "df_na = df[df['Precip Type'].isna()]\n",
        "df_na"
      ],
      "execution_count": 125,
      "outputs": [
        {
          "output_type": "execute_result",
          "data": {
            "text/html": [
              "<div>\n",
              "<style scoped>\n",
              "    .dataframe tbody tr th:only-of-type {\n",
              "        vertical-align: middle;\n",
              "    }\n",
              "\n",
              "    .dataframe tbody tr th {\n",
              "        vertical-align: top;\n",
              "    }\n",
              "\n",
              "    .dataframe thead th {\n",
              "        text-align: right;\n",
              "    }\n",
              "</style>\n",
              "<table border=\"1\" class=\"dataframe\">\n",
              "  <thead>\n",
              "    <tr style=\"text-align: right;\">\n",
              "      <th></th>\n",
              "      <th>Formatted Date</th>\n",
              "      <th>Summary</th>\n",
              "      <th>Precip Type</th>\n",
              "      <th>Temperature (C)</th>\n",
              "      <th>Apparent Temperature (C)</th>\n",
              "      <th>Humidity</th>\n",
              "      <th>Wind Speed (km/h)</th>\n",
              "      <th>Wind Bearing (degrees)</th>\n",
              "      <th>Visibility (km)</th>\n",
              "      <th>Loud Cover</th>\n",
              "      <th>Pressure (millibars)</th>\n",
              "      <th>Daily Summary</th>\n",
              "      <th>Month</th>\n",
              "    </tr>\n",
              "  </thead>\n",
              "  <tbody>\n",
              "    <tr>\n",
              "      <th>52672</th>\n",
              "      <td>2012-04-11 14:00:00+00:00</td>\n",
              "      <td>Mostly Cloudy</td>\n",
              "      <td>NaN</td>\n",
              "      <td>19.016667</td>\n",
              "      <td>19.016667</td>\n",
              "      <td>0.26</td>\n",
              "      <td>14.8764</td>\n",
              "      <td>163.0</td>\n",
              "      <td>9.982</td>\n",
              "      <td>0.0</td>\n",
              "      <td>1002.40</td>\n",
              "      <td>Mostly cloudy until night.</td>\n",
              "      <td>4</td>\n",
              "    </tr>\n",
              "    <tr>\n",
              "      <th>52674</th>\n",
              "      <td>2012-04-11 16:00:00+00:00</td>\n",
              "      <td>Mostly Cloudy</td>\n",
              "      <td>NaN</td>\n",
              "      <td>17.850000</td>\n",
              "      <td>17.850000</td>\n",
              "      <td>0.28</td>\n",
              "      <td>13.7977</td>\n",
              "      <td>169.0</td>\n",
              "      <td>9.982</td>\n",
              "      <td>0.0</td>\n",
              "      <td>1001.79</td>\n",
              "      <td>Mostly cloudy until night.</td>\n",
              "      <td>4</td>\n",
              "    </tr>\n",
              "    <tr>\n",
              "      <th>52675</th>\n",
              "      <td>2012-04-11 17:00:00+00:00</td>\n",
              "      <td>Mostly Cloudy</td>\n",
              "      <td>NaN</td>\n",
              "      <td>16.322222</td>\n",
              "      <td>16.322222</td>\n",
              "      <td>0.32</td>\n",
              "      <td>10.8192</td>\n",
              "      <td>151.0</td>\n",
              "      <td>9.982</td>\n",
              "      <td>0.0</td>\n",
              "      <td>1001.60</td>\n",
              "      <td>Mostly cloudy until night.</td>\n",
              "      <td>4</td>\n",
              "    </tr>\n",
              "    <tr>\n",
              "      <th>52677</th>\n",
              "      <td>2012-04-11 19:00:00+00:00</td>\n",
              "      <td>Mostly Cloudy</td>\n",
              "      <td>NaN</td>\n",
              "      <td>12.566667</td>\n",
              "      <td>12.566667</td>\n",
              "      <td>0.43</td>\n",
              "      <td>9.0160</td>\n",
              "      <td>159.0</td>\n",
              "      <td>9.982</td>\n",
              "      <td>0.0</td>\n",
              "      <td>1001.92</td>\n",
              "      <td>Mostly cloudy until night.</td>\n",
              "      <td>4</td>\n",
              "    </tr>\n",
              "    <tr>\n",
              "      <th>52678</th>\n",
              "      <td>2012-04-11 20:00:00+00:00</td>\n",
              "      <td>Mostly Cloudy</td>\n",
              "      <td>NaN</td>\n",
              "      <td>12.927778</td>\n",
              "      <td>12.927778</td>\n",
              "      <td>0.47</td>\n",
              "      <td>17.6295</td>\n",
              "      <td>197.0</td>\n",
              "      <td>16.100</td>\n",
              "      <td>0.0</td>\n",
              "      <td>1002.20</td>\n",
              "      <td>Mostly cloudy until night.</td>\n",
              "      <td>4</td>\n",
              "    </tr>\n",
              "    <tr>\n",
              "      <th>...</th>\n",
              "      <td>...</td>\n",
              "      <td>...</td>\n",
              "      <td>...</td>\n",
              "      <td>...</td>\n",
              "      <td>...</td>\n",
              "      <td>...</td>\n",
              "      <td>...</td>\n",
              "      <td>...</td>\n",
              "      <td>...</td>\n",
              "      <td>...</td>\n",
              "      <td>...</td>\n",
              "      <td>...</td>\n",
              "      <td>...</td>\n",
              "    </tr>\n",
              "    <tr>\n",
              "      <th>95584</th>\n",
              "      <td>2016-10-31 18:00:00+00:00</td>\n",
              "      <td>Mostly Cloudy</td>\n",
              "      <td>NaN</td>\n",
              "      <td>8.322222</td>\n",
              "      <td>7.044444</td>\n",
              "      <td>0.85</td>\n",
              "      <td>8.0339</td>\n",
              "      <td>290.0</td>\n",
              "      <td>0.000</td>\n",
              "      <td>0.0</td>\n",
              "      <td>1021.73</td>\n",
              "      <td>Mostly cloudy starting in the afternoon.</td>\n",
              "      <td>10</td>\n",
              "    </tr>\n",
              "    <tr>\n",
              "      <th>95585</th>\n",
              "      <td>2016-10-31 19:00:00+00:00</td>\n",
              "      <td>Mostly Cloudy</td>\n",
              "      <td>NaN</td>\n",
              "      <td>7.627778</td>\n",
              "      <td>6.183333</td>\n",
              "      <td>0.87</td>\n",
              "      <td>8.2271</td>\n",
              "      <td>293.0</td>\n",
              "      <td>0.000</td>\n",
              "      <td>0.0</td>\n",
              "      <td>1021.76</td>\n",
              "      <td>Mostly cloudy starting in the afternoon.</td>\n",
              "      <td>10</td>\n",
              "    </tr>\n",
              "    <tr>\n",
              "      <th>95586</th>\n",
              "      <td>2016-10-31 20:00:00+00:00</td>\n",
              "      <td>Mostly Cloudy</td>\n",
              "      <td>NaN</td>\n",
              "      <td>7.111111</td>\n",
              "      <td>5.511111</td>\n",
              "      <td>0.89</td>\n",
              "      <td>8.5008</td>\n",
              "      <td>297.0</td>\n",
              "      <td>0.000</td>\n",
              "      <td>0.0</td>\n",
              "      <td>1021.81</td>\n",
              "      <td>Mostly cloudy starting in the afternoon.</td>\n",
              "      <td>10</td>\n",
              "    </tr>\n",
              "    <tr>\n",
              "      <th>95587</th>\n",
              "      <td>2016-10-31 21:00:00+00:00</td>\n",
              "      <td>Partly Cloudy</td>\n",
              "      <td>NaN</td>\n",
              "      <td>6.672222</td>\n",
              "      <td>4.961111</td>\n",
              "      <td>0.90</td>\n",
              "      <td>8.6457</td>\n",
              "      <td>299.0</td>\n",
              "      <td>0.000</td>\n",
              "      <td>0.0</td>\n",
              "      <td>1021.83</td>\n",
              "      <td>Mostly cloudy starting in the afternoon.</td>\n",
              "      <td>10</td>\n",
              "    </tr>\n",
              "    <tr>\n",
              "      <th>95588</th>\n",
              "      <td>2016-10-31 22:00:00+00:00</td>\n",
              "      <td>Mostly Cloudy</td>\n",
              "      <td>NaN</td>\n",
              "      <td>6.322222</td>\n",
              "      <td>4.588889</td>\n",
              "      <td>0.91</td>\n",
              "      <td>8.4686</td>\n",
              "      <td>299.0</td>\n",
              "      <td>0.000</td>\n",
              "      <td>0.0</td>\n",
              "      <td>1021.80</td>\n",
              "      <td>Mostly cloudy starting in the afternoon.</td>\n",
              "      <td>10</td>\n",
              "    </tr>\n",
              "  </tbody>\n",
              "</table>\n",
              "<p>517 rows × 13 columns</p>\n",
              "</div>"
            ],
            "text/plain": [
              "                 Formatted Date  ... Month\n",
              "52672 2012-04-11 14:00:00+00:00  ...     4\n",
              "52674 2012-04-11 16:00:00+00:00  ...     4\n",
              "52675 2012-04-11 17:00:00+00:00  ...     4\n",
              "52677 2012-04-11 19:00:00+00:00  ...     4\n",
              "52678 2012-04-11 20:00:00+00:00  ...     4\n",
              "...                         ...  ...   ...\n",
              "95584 2016-10-31 18:00:00+00:00  ...    10\n",
              "95585 2016-10-31 19:00:00+00:00  ...    10\n",
              "95586 2016-10-31 20:00:00+00:00  ...    10\n",
              "95587 2016-10-31 21:00:00+00:00  ...    10\n",
              "95588 2016-10-31 22:00:00+00:00  ...    10\n",
              "\n",
              "[517 rows x 13 columns]"
            ]
          },
          "metadata": {},
          "execution_count": 125
        }
      ]
    },
    {
      "cell_type": "code",
      "metadata": {
        "colab": {
          "base_uri": "https://localhost:8080/"
        },
        "id": "VYTO1UZmDQr2",
        "outputId": "c0528b0c-62eb-42d1-8054-dec08d3024c6"
      },
      "source": [
        "df_na['Summary'].unique()"
      ],
      "execution_count": 126,
      "outputs": [
        {
          "output_type": "execute_result",
          "data": {
            "text/plain": [
              "array(['Mostly Cloudy', 'Partly Cloudy', 'Overcast', 'Clear', 'Foggy'],\n",
              "      dtype=object)"
            ]
          },
          "metadata": {},
          "execution_count": 126
        }
      ]
    },
    {
      "cell_type": "code",
      "metadata": {
        "colab": {
          "base_uri": "https://localhost:8080/",
          "height": 1000
        },
        "id": "3G8BxlsIaX_e",
        "outputId": "dc626331-eaf2-4a7d-b127-6c89300c4179"
      },
      "source": [
        "grouped_df = df.groupby(['Precip Type', 'Summary']).agg({'Formatted Date':'count'})\n",
        "grouped_df"
      ],
      "execution_count": 127,
      "outputs": [
        {
          "output_type": "execute_result",
          "data": {
            "text/html": [
              "<div>\n",
              "<style scoped>\n",
              "    .dataframe tbody tr th:only-of-type {\n",
              "        vertical-align: middle;\n",
              "    }\n",
              "\n",
              "    .dataframe tbody tr th {\n",
              "        vertical-align: top;\n",
              "    }\n",
              "\n",
              "    .dataframe thead th {\n",
              "        text-align: right;\n",
              "    }\n",
              "</style>\n",
              "<table border=\"1\" class=\"dataframe\">\n",
              "  <thead>\n",
              "    <tr style=\"text-align: right;\">\n",
              "      <th></th>\n",
              "      <th></th>\n",
              "      <th>Formatted Date</th>\n",
              "    </tr>\n",
              "    <tr>\n",
              "      <th>Precip Type</th>\n",
              "      <th>Summary</th>\n",
              "      <th></th>\n",
              "    </tr>\n",
              "  </thead>\n",
              "  <tbody>\n",
              "    <tr>\n",
              "      <th rowspan=\"27\" valign=\"top\">rain</th>\n",
              "      <th>Breezy</th>\n",
              "      <td>42</td>\n",
              "    </tr>\n",
              "    <tr>\n",
              "      <th>Breezy and Dry</th>\n",
              "      <td>1</td>\n",
              "    </tr>\n",
              "    <tr>\n",
              "      <th>Breezy and Foggy</th>\n",
              "      <td>8</td>\n",
              "    </tr>\n",
              "    <tr>\n",
              "      <th>Breezy and Mostly Cloudy</th>\n",
              "      <td>490</td>\n",
              "    </tr>\n",
              "    <tr>\n",
              "      <th>Breezy and Overcast</th>\n",
              "      <td>472</td>\n",
              "    </tr>\n",
              "    <tr>\n",
              "      <th>Breezy and Partly Cloudy</th>\n",
              "      <td>379</td>\n",
              "    </tr>\n",
              "    <tr>\n",
              "      <th>Clear</th>\n",
              "      <td>9371</td>\n",
              "    </tr>\n",
              "    <tr>\n",
              "      <th>Dangerously Windy and Partly Cloudy</th>\n",
              "      <td>1</td>\n",
              "    </tr>\n",
              "    <tr>\n",
              "      <th>Drizzle</th>\n",
              "      <td>39</td>\n",
              "    </tr>\n",
              "    <tr>\n",
              "      <th>Dry</th>\n",
              "      <td>34</td>\n",
              "    </tr>\n",
              "    <tr>\n",
              "      <th>Dry and Mostly Cloudy</th>\n",
              "      <td>14</td>\n",
              "    </tr>\n",
              "    <tr>\n",
              "      <th>Dry and Partly Cloudy</th>\n",
              "      <td>86</td>\n",
              "    </tr>\n",
              "    <tr>\n",
              "      <th>Foggy</th>\n",
              "      <td>4135</td>\n",
              "    </tr>\n",
              "    <tr>\n",
              "      <th>Humid and Mostly Cloudy</th>\n",
              "      <td>40</td>\n",
              "    </tr>\n",
              "    <tr>\n",
              "      <th>Humid and Overcast</th>\n",
              "      <td>7</td>\n",
              "    </tr>\n",
              "    <tr>\n",
              "      <th>Humid and Partly Cloudy</th>\n",
              "      <td>17</td>\n",
              "    </tr>\n",
              "    <tr>\n",
              "      <th>Light Rain</th>\n",
              "      <td>63</td>\n",
              "    </tr>\n",
              "    <tr>\n",
              "      <th>Mostly Cloudy</th>\n",
              "      <td>26028</td>\n",
              "    </tr>\n",
              "    <tr>\n",
              "      <th>Overcast</th>\n",
              "      <td>13916</td>\n",
              "    </tr>\n",
              "    <tr>\n",
              "      <th>Partly Cloudy</th>\n",
              "      <td>29915</td>\n",
              "    </tr>\n",
              "    <tr>\n",
              "      <th>Rain</th>\n",
              "      <td>10</td>\n",
              "    </tr>\n",
              "    <tr>\n",
              "      <th>Windy</th>\n",
              "      <td>8</td>\n",
              "    </tr>\n",
              "    <tr>\n",
              "      <th>Windy and Dry</th>\n",
              "      <td>1</td>\n",
              "    </tr>\n",
              "    <tr>\n",
              "      <th>Windy and Foggy</th>\n",
              "      <td>3</td>\n",
              "    </tr>\n",
              "    <tr>\n",
              "      <th>Windy and Mostly Cloudy</th>\n",
              "      <td>35</td>\n",
              "    </tr>\n",
              "    <tr>\n",
              "      <th>Windy and Overcast</th>\n",
              "      <td>42</td>\n",
              "    </tr>\n",
              "    <tr>\n",
              "      <th>Windy and Partly Cloudy</th>\n",
              "      <td>67</td>\n",
              "    </tr>\n",
              "    <tr>\n",
              "      <th rowspan=\"12\" valign=\"top\">snow</th>\n",
              "      <th>Breezy</th>\n",
              "      <td>12</td>\n",
              "    </tr>\n",
              "    <tr>\n",
              "      <th>Breezy and Foggy</th>\n",
              "      <td>27</td>\n",
              "    </tr>\n",
              "    <tr>\n",
              "      <th>Breezy and Mostly Cloudy</th>\n",
              "      <td>26</td>\n",
              "    </tr>\n",
              "    <tr>\n",
              "      <th>Breezy and Overcast</th>\n",
              "      <td>56</td>\n",
              "    </tr>\n",
              "    <tr>\n",
              "      <th>Breezy and Partly Cloudy</th>\n",
              "      <td>7</td>\n",
              "    </tr>\n",
              "    <tr>\n",
              "      <th>Clear</th>\n",
              "      <td>1392</td>\n",
              "    </tr>\n",
              "    <tr>\n",
              "      <th>Foggy</th>\n",
              "      <td>2982</td>\n",
              "    </tr>\n",
              "    <tr>\n",
              "      <th>Mostly Cloudy</th>\n",
              "      <td>1886</td>\n",
              "    </tr>\n",
              "    <tr>\n",
              "      <th>Overcast</th>\n",
              "      <td>2600</td>\n",
              "    </tr>\n",
              "    <tr>\n",
              "      <th>Partly Cloudy</th>\n",
              "      <td>1720</td>\n",
              "    </tr>\n",
              "    <tr>\n",
              "      <th>Windy and Foggy</th>\n",
              "      <td>1</td>\n",
              "    </tr>\n",
              "    <tr>\n",
              "      <th>Windy and Overcast</th>\n",
              "      <td>3</td>\n",
              "    </tr>\n",
              "  </tbody>\n",
              "</table>\n",
              "</div>"
            ],
            "text/plain": [
              "                                                 Formatted Date\n",
              "Precip Type Summary                                            \n",
              "rain        Breezy                                           42\n",
              "            Breezy and Dry                                    1\n",
              "            Breezy and Foggy                                  8\n",
              "            Breezy and Mostly Cloudy                        490\n",
              "            Breezy and Overcast                             472\n",
              "            Breezy and Partly Cloudy                        379\n",
              "            Clear                                          9371\n",
              "            Dangerously Windy and Partly Cloudy               1\n",
              "            Drizzle                                          39\n",
              "            Dry                                              34\n",
              "            Dry and Mostly Cloudy                            14\n",
              "            Dry and Partly Cloudy                            86\n",
              "            Foggy                                          4135\n",
              "            Humid and Mostly Cloudy                          40\n",
              "            Humid and Overcast                                7\n",
              "            Humid and Partly Cloudy                          17\n",
              "            Light Rain                                       63\n",
              "            Mostly Cloudy                                 26028\n",
              "            Overcast                                      13916\n",
              "            Partly Cloudy                                 29915\n",
              "            Rain                                             10\n",
              "            Windy                                             8\n",
              "            Windy and Dry                                     1\n",
              "            Windy and Foggy                                   3\n",
              "            Windy and Mostly Cloudy                          35\n",
              "            Windy and Overcast                               42\n",
              "            Windy and Partly Cloudy                          67\n",
              "snow        Breezy                                           12\n",
              "            Breezy and Foggy                                 27\n",
              "            Breezy and Mostly Cloudy                         26\n",
              "            Breezy and Overcast                              56\n",
              "            Breezy and Partly Cloudy                          7\n",
              "            Clear                                          1392\n",
              "            Foggy                                          2982\n",
              "            Mostly Cloudy                                  1886\n",
              "            Overcast                                       2600\n",
              "            Partly Cloudy                                  1720\n",
              "            Windy and Foggy                                   1\n",
              "            Windy and Overcast                                3"
            ]
          },
          "metadata": {},
          "execution_count": 127
        }
      ]
    },
    {
      "cell_type": "code",
      "metadata": {
        "colab": {
          "base_uri": "https://localhost:8080/",
          "height": 235
        },
        "id": "VOI0rdR0b5gO",
        "outputId": "c535e898-2fdf-49e0-f693-e97773840af0"
      },
      "source": [
        "grouped_df_na = df_na.groupby(['Summary']).agg({'Formatted Date':'count'})\n",
        "grouped_df_na"
      ],
      "execution_count": 128,
      "outputs": [
        {
          "output_type": "execute_result",
          "data": {
            "text/html": [
              "<div>\n",
              "<style scoped>\n",
              "    .dataframe tbody tr th:only-of-type {\n",
              "        vertical-align: middle;\n",
              "    }\n",
              "\n",
              "    .dataframe tbody tr th {\n",
              "        vertical-align: top;\n",
              "    }\n",
              "\n",
              "    .dataframe thead th {\n",
              "        text-align: right;\n",
              "    }\n",
              "</style>\n",
              "<table border=\"1\" class=\"dataframe\">\n",
              "  <thead>\n",
              "    <tr style=\"text-align: right;\">\n",
              "      <th></th>\n",
              "      <th>Formatted Date</th>\n",
              "    </tr>\n",
              "    <tr>\n",
              "      <th>Summary</th>\n",
              "      <th></th>\n",
              "    </tr>\n",
              "  </thead>\n",
              "  <tbody>\n",
              "    <tr>\n",
              "      <th>Clear</th>\n",
              "      <td>127</td>\n",
              "    </tr>\n",
              "    <tr>\n",
              "      <th>Foggy</th>\n",
              "      <td>31</td>\n",
              "    </tr>\n",
              "    <tr>\n",
              "      <th>Mostly Cloudy</th>\n",
              "      <td>180</td>\n",
              "    </tr>\n",
              "    <tr>\n",
              "      <th>Overcast</th>\n",
              "      <td>81</td>\n",
              "    </tr>\n",
              "    <tr>\n",
              "      <th>Partly Cloudy</th>\n",
              "      <td>98</td>\n",
              "    </tr>\n",
              "  </tbody>\n",
              "</table>\n",
              "</div>"
            ],
            "text/plain": [
              "               Formatted Date\n",
              "Summary                      \n",
              "Clear                     127\n",
              "Foggy                      31\n",
              "Mostly Cloudy             180\n",
              "Overcast                   81\n",
              "Partly Cloudy              98"
            ]
          },
          "metadata": {},
          "execution_count": 128
        }
      ]
    },
    {
      "cell_type": "code",
      "metadata": {
        "colab": {
          "base_uri": "https://localhost:8080/",
          "height": 418
        },
        "id": "aZX3ILOxA7Zw",
        "outputId": "3a42c60b-29fe-491d-8ddb-0d98a7cf8a75"
      },
      "source": [
        "df_filter_clear = df[df['Summary'].isin(['Clear'])]\n",
        "df_filter_clear['Missing'] = df_filter_clear['Precip Type'].isna()\n",
        "df_filter_clear_missing = df_filter_clear[df_filter_clear['Missing'] == True]\n",
        "sns.histplot(data=df_filter_clear_missing, y='Apparent Temperature (C)', hue=\"Month\")"
      ],
      "execution_count": 145,
      "outputs": [
        {
          "output_type": "stream",
          "name": "stderr",
          "text": [
            "/usr/local/lib/python3.7/dist-packages/ipykernel_launcher.py:2: SettingWithCopyWarning: \n",
            "A value is trying to be set on a copy of a slice from a DataFrame.\n",
            "Try using .loc[row_indexer,col_indexer] = value instead\n",
            "\n",
            "See the caveats in the documentation: https://pandas.pydata.org/pandas-docs/stable/user_guide/indexing.html#returning-a-view-versus-a-copy\n",
            "  \n"
          ]
        },
        {
          "output_type": "execute_result",
          "data": {
            "text/plain": [
              "<matplotlib.axes._subplots.AxesSubplot at 0x7f09e2d1e810>"
            ]
          },
          "metadata": {},
          "execution_count": 145
        },
        {
          "output_type": "display_data",
          "data": {
            "image/png": "[encoded data removed]",
            "text/plain": [
              "<Figure size 432x288 with 1 Axes>"
            ]
          },
          "metadata": {
            "needs_background": "light"
          }
        }
      ]
    },
    {
      "cell_type": "code",
      "metadata": {
        "colab": {
          "base_uri": "https://localhost:8080/",
          "height": 296
        },
        "id": "DcV8FjJ0EaRV",
        "outputId": "7d921a22-bd09-4c39-ba82-d32815e086e9"
      },
      "source": [
        "df_filter_not_missing = df_filter_clear[df_filter_clear['Missing'] == False]\n",
        "sns.histplot(x='Precip Type', y='Apparent Temperature (C)', data=df_filter_not_missing, hue=\"Month\")"
      ],
      "execution_count": 146,
      "outputs": [
        {
          "output_type": "execute_result",
          "data": {
            "text/plain": [
              "<matplotlib.axes._subplots.AxesSubplot at 0x7f09e2c02c50>"
            ]
          },
          "metadata": {},
          "execution_count": 146
        },
        {
          "output_type": "display_data",
          "data": {
            "image/png": "[encoded data removed]",
            "text/plain": [
              "<Figure size 432x288 with 1 Axes>"
            ]
          },
          "metadata": {
            "needs_background": "light"
          }
        }
      ]
    },
    {
      "cell_type": "code",
      "metadata": {
        "colab": {
          "base_uri": "https://localhost:8080/",
          "height": 418
        },
        "id": "1nhoJAI1U6LE",
        "outputId": "7602b2a5-0bed-411f-a87d-43d42ec11bef"
      },
      "source": [
        "df_filter_foggy = df[df['Summary'].isin(['Foggy'])]\n",
        "df_filter_foggy['Missing'] = df_filter_foggy['Precip Type'].isna()\n",
        "df_filter_foggy_missing = df_filter_foggy[df_filter_foggy['Missing'] == True]\n",
        "sns.histplot(data=df_filter_foggy_missing, y='Apparent Temperature (C)', hue=\"Month\")"
      ],
      "execution_count": 147,
      "outputs": [
        {
          "output_type": "stream",
          "name": "stderr",
          "text": [
            "/usr/local/lib/python3.7/dist-packages/ipykernel_launcher.py:2: SettingWithCopyWarning: \n",
            "A value is trying to be set on a copy of a slice from a DataFrame.\n",
            "Try using .loc[row_indexer,col_indexer] = value instead\n",
            "\n",
            "See the caveats in the documentation: https://pandas.pydata.org/pandas-docs/stable/user_guide/indexing.html#returning-a-view-versus-a-copy\n",
            "  \n"
          ]
        },
        {
          "output_type": "execute_result",
          "data": {
            "text/plain": [
              "<matplotlib.axes._subplots.AxesSubplot at 0x7f09e1c77290>"
            ]
          },
          "metadata": {},
          "execution_count": 147
        },
        {
          "output_type": "display_data",
          "data": {
            "image/png": "[encoded data removed]",
            "text/plain": [
              "<Figure size 432x288 with 1 Axes>"
            ]
          },
          "metadata": {
            "needs_background": "light"
          }
        }
      ]
    },
    {
      "cell_type": "code",
      "metadata": {
        "colab": {
          "base_uri": "https://localhost:8080/",
          "height": 296
        },
        "id": "4i5ZKcYiVEOT",
        "outputId": "f28ebea4-31dd-4c6c-c2d8-da89b1f3ecbb"
      },
      "source": [
        "df_filter_not_missing = df_filter_foggy[df_filter_foggy['Missing'] == False]\n",
        "sns.histplot(x='Precip Type', y='Apparent Temperature (C)', data=df_filter_not_missing, hue=\"Month\")"
      ],
      "execution_count": 148,
      "outputs": [
        {
          "output_type": "execute_result",
          "data": {
            "text/plain": [
              "<matplotlib.axes._subplots.AxesSubplot at 0x7f09e1bed990>"
            ]
          },
          "metadata": {},
          "execution_count": 148
        },
        {
          "output_type": "display_data",
          "data": {
            "image/png": "[encoded data removed]",
            "text/plain": [
              "<Figure size 432x288 with 1 Axes>"
            ]
          },
          "metadata": {
            "needs_background": "light"
          }
        }
      ]
    },
    {
      "cell_type": "code",
      "metadata": {
        "colab": {
          "base_uri": "https://localhost:8080/",
          "height": 418
        },
        "id": "4e8WaljSVWT6",
        "outputId": "3a861c55-56b5-4abb-850f-538f3e03597f"
      },
      "source": [
        "df_filter_mcloudy = df[df['Summary'].isin(['Mostly Cloudy'])]\n",
        "df_filter_mcloudy['Missing'] = df_filter_mcloudy['Precip Type'].isna()\n",
        "df_filter_mcloudy_missing = df_filter_mcloudy[df_filter_mcloudy['Missing'] == True]\n",
        "sns.histplot(data=df_filter_mcloudy_missing, y='Apparent Temperature (C)', hue=\"Month\")"
      ],
      "execution_count": 149,
      "outputs": [
        {
          "output_type": "stream",
          "name": "stderr",
          "text": [
            "/usr/local/lib/python3.7/dist-packages/ipykernel_launcher.py:2: SettingWithCopyWarning: \n",
            "A value is trying to be set on a copy of a slice from a DataFrame.\n",
            "Try using .loc[row_indexer,col_indexer] = value instead\n",
            "\n",
            "See the caveats in the documentation: https://pandas.pydata.org/pandas-docs/stable/user_guide/indexing.html#returning-a-view-versus-a-copy\n",
            "  \n"
          ]
        },
        {
          "output_type": "execute_result",
          "data": {
            "text/plain": [
              "<matplotlib.axes._subplots.AxesSubplot at 0x7f09e1ac0cd0>"
            ]
          },
          "metadata": {},
          "execution_count": 149
        },
        {
          "output_type": "display_data",
          "data": {
            "image/png": "[encoded data removed]",
            "text/plain": [
              "<Figure size 432x288 with 1 Axes>"
            ]
          },
          "metadata": {
            "needs_background": "light"
          }
        }
      ]
    },
    {
      "cell_type": "code",
      "metadata": {
        "colab": {
          "base_uri": "https://localhost:8080/",
          "height": 296
        },
        "id": "oJ3YqSD9VWT7",
        "outputId": "957e9064-43df-491f-9978-dcc317641f10"
      },
      "source": [
        "df_filter_not_missing = df_filter_mcloudy[df_filter_mcloudy['Missing'] == False]\n",
        "sns.histplot(x='Precip Type', y='Apparent Temperature (C)', data=df_filter_not_missing, hue=\"Month\")"
      ],
      "execution_count": 150,
      "outputs": [
        {
          "output_type": "execute_result",
          "data": {
            "text/plain": [
              "<matplotlib.axes._subplots.AxesSubplot at 0x7f09e19c0850>"
            ]
          },
          "metadata": {},
          "execution_count": 150
        },
        {
          "output_type": "display_data",
          "data": {
            "image/png": "[encoded data removed]",
            "text/plain": [
              "<Figure size 432x288 with 1 Axes>"
            ]
          },
          "metadata": {
            "needs_background": "light"
          }
        }
      ]
    },
    {
      "cell_type": "code",
      "metadata": {
        "colab": {
          "base_uri": "https://localhost:8080/",
          "height": 418
        },
        "id": "1ixQGnroVv2b",
        "outputId": "23bced22-e8ae-4e61-f48a-ecfbae0f36eb"
      },
      "source": [
        "df_filter_overcast = df[df['Summary'].isin(['Overcast'])]\n",
        "df_filter_overcast['Missing'] = df_filter_overcast['Precip Type'].isna()\n",
        "df_filter_overcast_missing = df_filter_overcast[df_filter_overcast['Missing'] == True]\n",
        "sns.histplot(data=df_filter_overcast_missing, y='Apparent Temperature (C)', hue=\"Month\")"
      ],
      "execution_count": 151,
      "outputs": [
        {
          "output_type": "stream",
          "name": "stderr",
          "text": [
            "/usr/local/lib/python3.7/dist-packages/ipykernel_launcher.py:2: SettingWithCopyWarning: \n",
            "A value is trying to be set on a copy of a slice from a DataFrame.\n",
            "Try using .loc[row_indexer,col_indexer] = value instead\n",
            "\n",
            "See the caveats in the documentation: https://pandas.pydata.org/pandas-docs/stable/user_guide/indexing.html#returning-a-view-versus-a-copy\n",
            "  \n"
          ]
        },
        {
          "output_type": "execute_result",
          "data": {
            "text/plain": [
              "<matplotlib.axes._subplots.AxesSubplot at 0x7f09e2b775d0>"
            ]
          },
          "metadata": {},
          "execution_count": 151
        },
        {
          "output_type": "display_data",
          "data": {
            "image/png": "[encoded data removed]",
            "text/plain": [
              "<Figure size 432x288 with 1 Axes>"
            ]
          },
          "metadata": {
            "needs_background": "light"
          }
        }
      ]
    },
    {
      "cell_type": "code",
      "metadata": {
        "colab": {
          "base_uri": "https://localhost:8080/",
          "height": 296
        },
        "id": "hFURUcqkVv2c",
        "outputId": "68cf3f8d-e20f-4e13-b1da-8f70b6ebb313"
      },
      "source": [
        "df_filter_not_missing = df_filter_overcast[df_filter_overcast['Missing'] == False]\n",
        "sns.histplot(x='Precip Type', y='Apparent Temperature (C)', data=df_filter_not_missing, hue=\"Month\")"
      ],
      "execution_count": 152,
      "outputs": [
        {
          "output_type": "execute_result",
          "data": {
            "text/plain": [
              "<matplotlib.axes._subplots.AxesSubplot at 0x7f09e2d4a350>"
            ]
          },
          "metadata": {},
          "execution_count": 152
        },
        {
          "output_type": "display_data",
          "data": {
            "image/png": "[encoded data removed]",
            "text/plain": [
              "<Figure size 432x288 with 1 Axes>"
            ]
          },
          "metadata": {
            "needs_background": "light"
          }
        }
      ]
    },
    {
      "cell_type": "code",
      "metadata": {
        "colab": {
          "base_uri": "https://localhost:8080/",
          "height": 418
        },
        "id": "9KrETjO4WDWt",
        "outputId": "f1fb9530-a3da-4c3d-9128-6ab171c02167"
      },
      "source": [
        "df_filter_pcloudy = df[df['Summary'].isin(['Partly Cloudy'])]\n",
        "df_filter_pcloudy['Missing'] = df_filter_pcloudy['Precip Type'].isna()\n",
        "df_filter_pcloudy_missing = df_filter_pcloudy[df_filter_pcloudy['Missing'] == True]\n",
        "sns.histplot(data=df_filter_pcloudy_missing, y='Apparent Temperature (C)', hue=\"Month\")"
      ],
      "execution_count": 153,
      "outputs": [
        {
          "output_type": "stream",
          "name": "stderr",
          "text": [
            "/usr/local/lib/python3.7/dist-packages/ipykernel_launcher.py:2: SettingWithCopyWarning: \n",
            "A value is trying to be set on a copy of a slice from a DataFrame.\n",
            "Try using .loc[row_indexer,col_indexer] = value instead\n",
            "\n",
            "See the caveats in the documentation: https://pandas.pydata.org/pandas-docs/stable/user_guide/indexing.html#returning-a-view-versus-a-copy\n",
            "  \n"
          ]
        },
        {
          "output_type": "execute_result",
          "data": {
            "text/plain": [
              "<matplotlib.axes._subplots.AxesSubplot at 0x7f09e16d5890>"
            ]
          },
          "metadata": {},
          "execution_count": 153
        },
        {
          "output_type": "display_data",
          "data": {
            "image/png": "[encoded data removed]",
            "text/plain": [
              "<Figure size 432x288 with 1 Axes>"
            ]
          },
          "metadata": {
            "needs_background": "light"
          }
        }
      ]
    },
    {
      "cell_type": "code",
      "metadata": {
        "colab": {
          "base_uri": "https://localhost:8080/",
          "height": 296
        },
        "id": "8OkYbYOqWDWt",
        "outputId": "95f09dae-6fe2-4631-abc6-ec4b7d69a750"
      },
      "source": [
        "df_filter_not_missing = df_filter_pcloudy[df_filter_pcloudy['Missing'] == False]\n",
        "sns.histplot(x='Precip Type', y='Apparent Temperature (C)', data=df_filter_not_missing, hue=\"Month\")"
      ],
      "execution_count": 154,
      "outputs": [
        {
          "output_type": "execute_result",
          "data": {
            "text/plain": [
              "<matplotlib.axes._subplots.AxesSubplot at 0x7f09e16d1590>"
            ]
          },
          "metadata": {},
          "execution_count": 154
        },
        {
          "output_type": "display_data",
          "data": {
            "image/png": "[encoded data removed]",
            "text/plain": [
              "<Figure size 432x288 with 1 Axes>"
            ]
          },
          "metadata": {
            "needs_background": "light"
          }
        }
      ]
    },
    {
      "cell_type": "code",
      "metadata": {
        "colab": {
          "base_uri": "https://localhost:8080/",
          "height": 351
        },
        "id": "Bg0O1mDxNO-c",
        "outputId": "157b952c-8d7d-4e23-83bd-0f80e9a252f3"
      },
      "source": [
        "df.describe()"
      ],
      "execution_count": 141,
      "outputs": [
        {
          "output_type": "execute_result",
          "data": {
            "text/html": [
              "<div>\n",
              "<style scoped>\n",
              "    .dataframe tbody tr th:only-of-type {\n",
              "        vertical-align: middle;\n",
              "    }\n",
              "\n",
              "    .dataframe tbody tr th {\n",
              "        vertical-align: top;\n",
              "    }\n",
              "\n",
              "    .dataframe thead th {\n",
              "        text-align: right;\n",
              "    }\n",
              "</style>\n",
              "<table border=\"1\" class=\"dataframe\">\n",
              "  <thead>\n",
              "    <tr style=\"text-align: right;\">\n",
              "      <th></th>\n",
              "      <th>Temperature (C)</th>\n",
              "      <th>Apparent Temperature (C)</th>\n",
              "      <th>Humidity</th>\n",
              "      <th>Wind Speed (km/h)</th>\n",
              "      <th>Wind Bearing (degrees)</th>\n",
              "      <th>Visibility (km)</th>\n",
              "      <th>Loud Cover</th>\n",
              "      <th>Pressure (millibars)</th>\n",
              "      <th>Month</th>\n",
              "    </tr>\n",
              "  </thead>\n",
              "  <tbody>\n",
              "    <tr>\n",
              "      <th>count</th>\n",
              "      <td>96453.000000</td>\n",
              "      <td>96453.000000</td>\n",
              "      <td>96453.000000</td>\n",
              "      <td>96453.000000</td>\n",
              "      <td>96453.000000</td>\n",
              "      <td>96453.000000</td>\n",
              "      <td>96453.0</td>\n",
              "      <td>96453.000000</td>\n",
              "      <td>96453.000000</td>\n",
              "    </tr>\n",
              "    <tr>\n",
              "      <th>mean</th>\n",
              "      <td>11.932678</td>\n",
              "      <td>10.855029</td>\n",
              "      <td>0.734899</td>\n",
              "      <td>10.810640</td>\n",
              "      <td>187.509232</td>\n",
              "      <td>10.347325</td>\n",
              "      <td>0.0</td>\n",
              "      <td>1003.235956</td>\n",
              "      <td>6.523001</td>\n",
              "    </tr>\n",
              "    <tr>\n",
              "      <th>std</th>\n",
              "      <td>9.551546</td>\n",
              "      <td>10.696847</td>\n",
              "      <td>0.195473</td>\n",
              "      <td>6.913571</td>\n",
              "      <td>107.383428</td>\n",
              "      <td>4.192123</td>\n",
              "      <td>0.0</td>\n",
              "      <td>116.969906</td>\n",
              "      <td>3.448501</td>\n",
              "    </tr>\n",
              "    <tr>\n",
              "      <th>min</th>\n",
              "      <td>-21.822222</td>\n",
              "      <td>-27.716667</td>\n",
              "      <td>0.000000</td>\n",
              "      <td>0.000000</td>\n",
              "      <td>0.000000</td>\n",
              "      <td>0.000000</td>\n",
              "      <td>0.0</td>\n",
              "      <td>0.000000</td>\n",
              "      <td>1.000000</td>\n",
              "    </tr>\n",
              "    <tr>\n",
              "      <th>25%</th>\n",
              "      <td>4.688889</td>\n",
              "      <td>2.311111</td>\n",
              "      <td>0.600000</td>\n",
              "      <td>5.828200</td>\n",
              "      <td>116.000000</td>\n",
              "      <td>8.339800</td>\n",
              "      <td>0.0</td>\n",
              "      <td>1011.900000</td>\n",
              "      <td>4.000000</td>\n",
              "    </tr>\n",
              "    <tr>\n",
              "      <th>50%</th>\n",
              "      <td>12.000000</td>\n",
              "      <td>12.000000</td>\n",
              "      <td>0.780000</td>\n",
              "      <td>9.965900</td>\n",
              "      <td>180.000000</td>\n",
              "      <td>10.046400</td>\n",
              "      <td>0.0</td>\n",
              "      <td>1016.450000</td>\n",
              "      <td>7.000000</td>\n",
              "    </tr>\n",
              "    <tr>\n",
              "      <th>75%</th>\n",
              "      <td>18.838889</td>\n",
              "      <td>18.838889</td>\n",
              "      <td>0.890000</td>\n",
              "      <td>14.135800</td>\n",
              "      <td>290.000000</td>\n",
              "      <td>14.812000</td>\n",
              "      <td>0.0</td>\n",
              "      <td>1021.090000</td>\n",
              "      <td>10.000000</td>\n",
              "    </tr>\n",
              "    <tr>\n",
              "      <th>max</th>\n",
              "      <td>39.905556</td>\n",
              "      <td>39.344444</td>\n",
              "      <td>1.000000</td>\n",
              "      <td>63.852600</td>\n",
              "      <td>359.000000</td>\n",
              "      <td>16.100000</td>\n",
              "      <td>0.0</td>\n",
              "      <td>1046.380000</td>\n",
              "      <td>12.000000</td>\n",
              "    </tr>\n",
              "  </tbody>\n",
              "</table>\n",
              "</div>"
            ],
            "text/plain": [
              "       Temperature (C)  ...         Month\n",
              "count     96453.000000  ...  96453.000000\n",
              "mean         11.932678  ...      6.523001\n",
              "std           9.551546  ...      3.448501\n",
              "min         -21.822222  ...      1.000000\n",
              "25%           4.688889  ...      4.000000\n",
              "50%          12.000000  ...      7.000000\n",
              "75%          18.838889  ...     10.000000\n",
              "max          39.905556  ...     12.000000\n",
              "\n",
              "[8 rows x 9 columns]"
            ]
          },
          "metadata": {},
          "execution_count": 141
        }
      ]
    },
    {
      "cell_type": "code",
      "metadata": {
        "colab": {
          "base_uri": "https://localhost:8080/"
        },
        "id": "9xvYW4G-NU1D",
        "outputId": "420335bd-383b-46c8-e83a-4c1e75930f65"
      },
      "source": [
        "df['Loud Cover'].value_counts()"
      ],
      "execution_count": 142,
      "outputs": [
        {
          "output_type": "execute_result",
          "data": {
            "text/plain": [
              "0.0    96453\n",
              "Name: Loud Cover, dtype: int64"
            ]
          },
          "metadata": {},
          "execution_count": 142
        }
      ]
    },
    {
      "cell_type": "code",
      "metadata": {
        "colab": {
          "base_uri": "https://localhost:8080/",
          "height": 513
        },
        "id": "uEuFIharOMw4",
        "outputId": "74d9857d-ac6f-4997-8ebb-3fc3e2160391"
      },
      "source": [
        "df.drop(columns=['Loud Cover'], axis=1, inplace=True)\n",
        "df.head()"
      ],
      "execution_count": 143,
      "outputs": [
        {
          "output_type": "execute_result",
          "data": {
            "text/html": [
              "<div>\n",
              "<style scoped>\n",
              "    .dataframe tbody tr th:only-of-type {\n",
              "        vertical-align: middle;\n",
              "    }\n",
              "\n",
              "    .dataframe tbody tr th {\n",
              "        vertical-align: top;\n",
              "    }\n",
              "\n",
              "    .dataframe thead th {\n",
              "        text-align: right;\n",
              "    }\n",
              "</style>\n",
              "<table border=\"1\" class=\"dataframe\">\n",
              "  <thead>\n",
              "    <tr style=\"text-align: right;\">\n",
              "      <th></th>\n",
              "      <th>Formatted Date</th>\n",
              "      <th>Summary</th>\n",
              "      <th>Precip Type</th>\n",
              "      <th>Temperature (C)</th>\n",
              "      <th>Apparent Temperature (C)</th>\n",
              "      <th>Humidity</th>\n",
              "      <th>Wind Speed (km/h)</th>\n",
              "      <th>Wind Bearing (degrees)</th>\n",
              "      <th>Visibility (km)</th>\n",
              "      <th>Pressure (millibars)</th>\n",
              "      <th>Daily Summary</th>\n",
              "      <th>Month</th>\n",
              "    </tr>\n",
              "  </thead>\n",
              "  <tbody>\n",
              "    <tr>\n",
              "      <th>0</th>\n",
              "      <td>2006-03-31 22:00:00+00:00</td>\n",
              "      <td>Partly Cloudy</td>\n",
              "      <td>rain</td>\n",
              "      <td>9.472222</td>\n",
              "      <td>7.388889</td>\n",
              "      <td>0.89</td>\n",
              "      <td>14.1197</td>\n",
              "      <td>251.0</td>\n",
              "      <td>15.8263</td>\n",
              "      <td>1015.13</td>\n",
              "      <td>Partly cloudy throughout the day.</td>\n",
              "      <td>3</td>\n",
              "    </tr>\n",
              "    <tr>\n",
              "      <th>1</th>\n",
              "      <td>2006-03-31 23:00:00+00:00</td>\n",
              "      <td>Partly Cloudy</td>\n",
              "      <td>rain</td>\n",
              "      <td>9.355556</td>\n",
              "      <td>7.227778</td>\n",
              "      <td>0.86</td>\n",
              "      <td>14.2646</td>\n",
              "      <td>259.0</td>\n",
              "      <td>15.8263</td>\n",
              "      <td>1015.63</td>\n",
              "      <td>Partly cloudy throughout the day.</td>\n",
              "      <td>3</td>\n",
              "    </tr>\n",
              "    <tr>\n",
              "      <th>2</th>\n",
              "      <td>2006-04-01 00:00:00+00:00</td>\n",
              "      <td>Mostly Cloudy</td>\n",
              "      <td>rain</td>\n",
              "      <td>9.377778</td>\n",
              "      <td>9.377778</td>\n",
              "      <td>0.89</td>\n",
              "      <td>3.9284</td>\n",
              "      <td>204.0</td>\n",
              "      <td>14.9569</td>\n",
              "      <td>1015.94</td>\n",
              "      <td>Partly cloudy throughout the day.</td>\n",
              "      <td>4</td>\n",
              "    </tr>\n",
              "    <tr>\n",
              "      <th>3</th>\n",
              "      <td>2006-04-01 01:00:00+00:00</td>\n",
              "      <td>Partly Cloudy</td>\n",
              "      <td>rain</td>\n",
              "      <td>8.288889</td>\n",
              "      <td>5.944444</td>\n",
              "      <td>0.83</td>\n",
              "      <td>14.1036</td>\n",
              "      <td>269.0</td>\n",
              "      <td>15.8263</td>\n",
              "      <td>1016.41</td>\n",
              "      <td>Partly cloudy throughout the day.</td>\n",
              "      <td>4</td>\n",
              "    </tr>\n",
              "    <tr>\n",
              "      <th>4</th>\n",
              "      <td>2006-04-01 02:00:00+00:00</td>\n",
              "      <td>Mostly Cloudy</td>\n",
              "      <td>rain</td>\n",
              "      <td>8.755556</td>\n",
              "      <td>6.977778</td>\n",
              "      <td>0.83</td>\n",
              "      <td>11.0446</td>\n",
              "      <td>259.0</td>\n",
              "      <td>15.8263</td>\n",
              "      <td>1016.51</td>\n",
              "      <td>Partly cloudy throughout the day.</td>\n",
              "      <td>4</td>\n",
              "    </tr>\n",
              "  </tbody>\n",
              "</table>\n",
              "</div>"
            ],
            "text/plain": [
              "             Formatted Date  ... Month\n",
              "0 2006-03-31 22:00:00+00:00  ...     3\n",
              "1 2006-03-31 23:00:00+00:00  ...     3\n",
              "2 2006-04-01 00:00:00+00:00  ...     4\n",
              "3 2006-04-01 01:00:00+00:00  ...     4\n",
              "4 2006-04-01 02:00:00+00:00  ...     4\n",
              "\n",
              "[5 rows x 12 columns]"
            ]
          },
          "metadata": {},
          "execution_count": 143
        }
      ]
    },
    {
      "cell_type": "code",
      "metadata": {
        "colab": {
          "base_uri": "https://localhost:8080/",
          "height": 343
        },
        "id": "l8z1DVzCOlj2",
        "outputId": "039f6753-3c7b-4ef2-e809-c37e4162a6ec"
      },
      "source": [
        "df.drop(columns=['Daily Summary'], axis=1, inplace=True)\n",
        "df.head()"
      ],
      "execution_count": 144,
      "outputs": [
        {
          "output_type": "execute_result",
          "data": {
            "text/html": [
              "<div>\n",
              "<style scoped>\n",
              "    .dataframe tbody tr th:only-of-type {\n",
              "        vertical-align: middle;\n",
              "    }\n",
              "\n",
              "    .dataframe tbody tr th {\n",
              "        vertical-align: top;\n",
              "    }\n",
              "\n",
              "    .dataframe thead th {\n",
              "        text-align: right;\n",
              "    }\n",
              "</style>\n",
              "<table border=\"1\" class=\"dataframe\">\n",
              "  <thead>\n",
              "    <tr style=\"text-align: right;\">\n",
              "      <th></th>\n",
              "      <th>Formatted Date</th>\n",
              "      <th>Summary</th>\n",
              "      <th>Precip Type</th>\n",
              "      <th>Temperature (C)</th>\n",
              "      <th>Apparent Temperature (C)</th>\n",
              "      <th>Humidity</th>\n",
              "      <th>Wind Speed (km/h)</th>\n",
              "      <th>Wind Bearing (degrees)</th>\n",
              "      <th>Visibility (km)</th>\n",
              "      <th>Pressure (millibars)</th>\n",
              "      <th>Month</th>\n",
              "    </tr>\n",
              "  </thead>\n",
              "  <tbody>\n",
              "    <tr>\n",
              "      <th>0</th>\n",
              "      <td>2006-03-31 22:00:00+00:00</td>\n",
              "      <td>Partly Cloudy</td>\n",
              "      <td>rain</td>\n",
              "      <td>9.472222</td>\n",
              "      <td>7.388889</td>\n",
              "      <td>0.89</td>\n",
              "      <td>14.1197</td>\n",
              "      <td>251.0</td>\n",
              "      <td>15.8263</td>\n",
              "      <td>1015.13</td>\n",
              "      <td>3</td>\n",
              "    </tr>\n",
              "    <tr>\n",
              "      <th>1</th>\n",
              "      <td>2006-03-31 23:00:00+00:00</td>\n",
              "      <td>Partly Cloudy</td>\n",
              "      <td>rain</td>\n",
              "      <td>9.355556</td>\n",
              "      <td>7.227778</td>\n",
              "      <td>0.86</td>\n",
              "      <td>14.2646</td>\n",
              "      <td>259.0</td>\n",
              "      <td>15.8263</td>\n",
              "      <td>1015.63</td>\n",
              "      <td>3</td>\n",
              "    </tr>\n",
              "    <tr>\n",
              "      <th>2</th>\n",
              "      <td>2006-04-01 00:00:00+00:00</td>\n",
              "      <td>Mostly Cloudy</td>\n",
              "      <td>rain</td>\n",
              "      <td>9.377778</td>\n",
              "      <td>9.377778</td>\n",
              "      <td>0.89</td>\n",
              "      <td>3.9284</td>\n",
              "      <td>204.0</td>\n",
              "      <td>14.9569</td>\n",
              "      <td>1015.94</td>\n",
              "      <td>4</td>\n",
              "    </tr>\n",
              "    <tr>\n",
              "      <th>3</th>\n",
              "      <td>2006-04-01 01:00:00+00:00</td>\n",
              "      <td>Partly Cloudy</td>\n",
              "      <td>rain</td>\n",
              "      <td>8.288889</td>\n",
              "      <td>5.944444</td>\n",
              "      <td>0.83</td>\n",
              "      <td>14.1036</td>\n",
              "      <td>269.0</td>\n",
              "      <td>15.8263</td>\n",
              "      <td>1016.41</td>\n",
              "      <td>4</td>\n",
              "    </tr>\n",
              "    <tr>\n",
              "      <th>4</th>\n",
              "      <td>2006-04-01 02:00:00+00:00</td>\n",
              "      <td>Mostly Cloudy</td>\n",
              "      <td>rain</td>\n",
              "      <td>8.755556</td>\n",
              "      <td>6.977778</td>\n",
              "      <td>0.83</td>\n",
              "      <td>11.0446</td>\n",
              "      <td>259.0</td>\n",
              "      <td>15.8263</td>\n",
              "      <td>1016.51</td>\n",
              "      <td>4</td>\n",
              "    </tr>\n",
              "  </tbody>\n",
              "</table>\n",
              "</div>"
            ],
            "text/plain": [
              "             Formatted Date        Summary  ... Pressure (millibars)  Month\n",
              "0 2006-03-31 22:00:00+00:00  Partly Cloudy  ...              1015.13      3\n",
              "1 2006-03-31 23:00:00+00:00  Partly Cloudy  ...              1015.63      3\n",
              "2 2006-04-01 00:00:00+00:00  Mostly Cloudy  ...              1015.94      4\n",
              "3 2006-04-01 01:00:00+00:00  Partly Cloudy  ...              1016.41      4\n",
              "4 2006-04-01 02:00:00+00:00  Mostly Cloudy  ...              1016.51      4\n",
              "\n",
              "[5 rows x 11 columns]"
            ]
          },
          "metadata": {},
          "execution_count": 144
        }
      ]
    }
  ]
}